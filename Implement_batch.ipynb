{
 "cells": [
  {
   "cell_type": "markdown",
   "id": "1615663b-1ea1-45f1-b588-95e34838633b",
   "metadata": {},
   "source": [
    "#### This is supporting notebook for installing and testing the developed XG Boost algorithm "
   ]
  },
  {
   "cell_type": "code",
   "execution_count": 5,
   "id": "f33a381a-fdc0-42ad-9aa0-cb60f34e719a",
   "metadata": {},
   "outputs": [],
   "source": [
    "import pandas as pd\n",
    "import xgboost as xgb\n",
    "\n",
    "# Load model\n",
    "model = xgb.XGBClassifier()\n",
    "model.load_model(r\"C:\\Seshere\\ML\\Imperial\\25 Module - Capstone Portfolio Project\\Full_Data\\fraud_model.xgb\")\n",
    "\n",
    "# Process transactions in bulk\n",
    "def batch_predict(input_csv, output_csv):\n",
    "    # Load the Implementation dataset \n",
    "    df = pd.read_csv('creditcard_imp.csv')\n",
    "    df['fraud_prob'] = model.predict_proba(df)[:, 1]\n",
    "    df['is_fraud'] = df['fraud_prob'] > 0.3\n",
    "    df.to_csv(output_csv, index=False)\n",
    "\n",
    "batch_predict(\"new_transactions.csv\", \"fraud_predictions.csv\")"
   ]
  },
  {
   "cell_type": "code",
   "execution_count": null,
   "id": "303de82d-5aae-41f9-b05f-dccc457ab304",
   "metadata": {},
   "outputs": [],
   "source": []
  }
 ],
 "metadata": {
  "kernelspec": {
   "display_name": "Python 3 (ipykernel)",
   "language": "python",
   "name": "python3"
  },
  "language_info": {
   "codemirror_mode": {
    "name": "ipython",
    "version": 3
   },
   "file_extension": ".py",
   "mimetype": "text/x-python",
   "name": "python",
   "nbconvert_exporter": "python",
   "pygments_lexer": "ipython3",
   "version": "3.12.4"
  }
 },
 "nbformat": 4,
 "nbformat_minor": 5
}
