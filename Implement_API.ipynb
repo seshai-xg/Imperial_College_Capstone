{
 "cells": [
  {
   "cell_type": "markdown",
   "id": "9e17edf4-5a4c-48ac-84f3-de5b2b2bca3e",
   "metadata": {},
   "source": [
    "#### This is to implement API for the XG Boost"
   ]
  },
  {
   "cell_type": "code",
   "execution_count": 2,
   "id": "ff779705-81fc-4e19-b60a-4102ba63d5ee",
   "metadata": {},
   "outputs": [
    {
     "ename": "ModuleNotFoundError",
     "evalue": "No module named 'flask'",
     "output_type": "error",
     "traceback": [
      "\u001b[1;31m---------------------------------------------------------------------------\u001b[0m",
      "\u001b[1;31mModuleNotFoundError\u001b[0m                       Traceback (most recent call last)",
      "Cell \u001b[1;32mIn[2], line 3\u001b[0m\n\u001b[0;32m      1\u001b[0m \u001b[38;5;28;01mimport\u001b[39;00m \u001b[38;5;21;01mpandas\u001b[39;00m \u001b[38;5;28;01mas\u001b[39;00m \u001b[38;5;21;01mpd\u001b[39;00m\n\u001b[0;32m      2\u001b[0m \u001b[38;5;28;01mimport\u001b[39;00m \u001b[38;5;21;01mxgboost\u001b[39;00m \u001b[38;5;28;01mas\u001b[39;00m \u001b[38;5;21;01mxgb\u001b[39;00m\n\u001b[1;32m----> 3\u001b[0m \u001b[38;5;28;01mfrom\u001b[39;00m \u001b[38;5;21;01mflask\u001b[39;00m \u001b[38;5;28;01mimport\u001b[39;00m Flask, request, jsonify\n\u001b[0;32m      4\u001b[0m \u001b[38;5;28;01mimport\u001b[39;00m \u001b[38;5;21;01mjson\u001b[39;00m\n\u001b[0;32m      5\u001b[0m \u001b[38;5;28;01mfrom\u001b[39;00m \u001b[38;5;21;01mtyping\u001b[39;00m \u001b[38;5;28;01mimport\u001b[39;00m Dict, Any\n",
      "\u001b[1;31mModuleNotFoundError\u001b[0m: No module named 'flask'"
     ]
    }
   ],
   "source": [
    "import pandas as pd\n",
    "import xgboost as xgb\n",
    "from flask import Flask, request, jsonify\n",
    "import json\n",
    "from typing import Dict, Any\n",
    "import logging\n",
    "\n",
    "# Initialize Flask app\n",
    "app = Flask(__name__)\n",
    "\n",
    "class FraudPredictor:\n",
    "    def __init__(self, model_path: str):\n",
    "        self.model = xgb.XGBClassifier()\n",
    "        self.model.load_model(model_path)\n",
    "        self.required_features = self.model.feature_names_in_.tolist()\n",
    "        self.threshold = 0.3  # Default threshold\n",
    "\n",
    "    def predict_fraud(self, transaction_data: Dict[str, Any]) -> Dict[str, Any]:\n",
    "        try:\n",
    "            # Convert string booleans to integers\n",
    "            converted_data = {}\n",
    "            for key, value in transaction_data.items():\n",
    "                if isinstance(value, str):\n",
    "                    if value.upper() == \"TRUE\":\n",
    "                        converted_data[key] = 1\n",
    "                    elif value.upper() == \"FALSE\":\n",
    "                        converted_data[key] = 0\n",
    "                    else:\n",
    "                        converted_data[key] = float(value)\n",
    "                else:\n",
    "                    converted_data[key] = value\n",
    "            \n",
    "            # Validate input\n",
    "            missing_features = set(self.required_features) - set(converted_data.keys())\n",
    "            if missing_features:\n",
    "                raise ValueError(f\"Missing features: {missing_features}\")\n",
    "            \n",
    "            input_df = pd.DataFrame([converted_data])[self.required_features]\n",
    "            \n",
    "            # Predict\n",
    "            prob = self.model.predict_proba(input_df)[0][1]\n",
    "            \n",
    "            return {\n",
    "                \"fraud_probability\": float(prob),\n",
    "                \"is_fraud\": bool(prob > self.threshold),\n",
    "                \"threshold\": self.threshold,\n",
    "                \"status\": \"success\"\n",
    "            }\n",
    "        except Exception as e:\n",
    "            return {\n",
    "                \"status\": \"error\",\n",
    "                \"message\": str(e)\n",
    "            }\n",
    "\n",
    "# Initialize predictor\n",
    "MODEL_PATH = \"fraud_model.xgb\"  # Update path if needed\n",
    "predictor = FraudPredictor(MODEL_PATH)\n",
    "\n",
    "@app.route('/predict', methods=['POST'])\n",
    "def predict():\n",
    "    \"\"\"API endpoint for fraud prediction\"\"\"\n",
    "    try:\n",
    "        data = request.get_json()\n",
    "        if not data:\n",
    "            return jsonify({\"error\": \"No input data provided\"}), 400\n",
    "        \n",
    "        result = predictor.predict_fraud(data)\n",
    "        return jsonify(result)\n",
    "    except Exception as e:\n",
    "        return jsonify({\"error\": str(e)}), 500\n",
    "\n",
    "@app.route('/update_threshold', methods=['POST'])\n",
    "def update_threshold():\n",
    "    \"\"\"Endpoint to update decision threshold\"\"\"\n",
    "    try:\n",
    "        data = request.get_json()\n",
    "        predictor.threshold = float(data['threshold'])\n",
    "        return jsonify({\"message\": f\"Threshold updated to {predictor.threshold}\"})\n",
    "    except Exception as e:\n",
    "        return jsonify({\"error\": str(e)}), 400\n",
    "\n",
    "if __name__ == '__main__':\n",
    "    app.run(host='0.0.0.0', port=5000, debug=True)"
   ]
  },
  {
   "cell_type": "code",
   "execution_count": null,
   "id": "dda9d20b-243f-42e9-aa06-e91b5f47bc09",
   "metadata": {},
   "outputs": [],
   "source": []
  }
 ],
 "metadata": {
  "kernelspec": {
   "display_name": "Python 3 (ipykernel)",
   "language": "python",
   "name": "python3"
  },
  "language_info": {
   "codemirror_mode": {
    "name": "ipython",
    "version": 3
   },
   "file_extension": ".py",
   "mimetype": "text/x-python",
   "name": "python",
   "nbconvert_exporter": "python",
   "pygments_lexer": "ipython3",
   "version": "3.12.4"
  }
 },
 "nbformat": 4,
 "nbformat_minor": 5
}
